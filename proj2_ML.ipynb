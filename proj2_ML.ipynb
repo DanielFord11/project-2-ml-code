{
 "cells": [
  {
   "cell_type": "code",
   "execution_count": 1,
   "metadata": {},
   "outputs": [],
   "source": [
    "import json\n",
    "import logging\n",
    "from re import sub\n",
    "from multiprocessing import cpu_count\n",
    "\n",
    "import numpy as np\n",
    "\n",
    "import gensim.downloader as api\n",
    "from gensim.utils import simple_preprocess\n",
    "from gensim.corpora import Dictionary\n",
    "from gensim.models import TfidfModel\n",
    "from gensim.models import WordEmbeddingSimilarityIndex\n",
    "from gensim.similarities import SparseTermSimilarityMatrix\n",
    "from gensim.similarities import SoftCosineSimilarity"
   ]
  },
  {
   "cell_type": "code",
   "execution_count": 2,
   "metadata": {},
   "outputs": [],
   "source": [
    "import logging\n",
    "\n",
    "# Initialize logging.\n",
    "logging.basicConfig(format='%(asctime)s : %(levelname)s : %(message)s', level=logging.WARNING)  # DEBUG # INFO"
   ]
  },
  {
   "cell_type": "code",
   "execution_count": 3,
   "metadata": {},
   "outputs": [
    {
     "name": "stderr",
     "output_type": "stream",
     "text": [
      "[nltk_data] Downloading package stopwords to /Users/dford/nltk_data...\n",
      "[nltk_data]   Package stopwords is already up-to-date!\n"
     ]
    }
   ],
   "source": [
    "import nltk\n",
    "\n",
    "# Import and download stopwords from NLTK.\n",
    "nltk.download('stopwords')  # Download stopwords list.\n",
    "stopwords = set(nltk.corpus.stopwords.words(\"english\"))"
   ]
  },
  {
   "cell_type": "code",
   "execution_count": 4,
   "metadata": {},
   "outputs": [],
   "source": [
    "# Support functions for pre-processing and calculation\n",
    "# From: https://github.com/RaRe-Technologies/gensim/blob/develop/docs/notebooks/soft_cosine_tutorial.ipynb\n",
    "\n",
    "def preprocess(doc):\n",
    "    # Tokenize, clean up input document string\n",
    "    doc = sub(r'<img[^<>]+(>|$)', \" image_token \", doc)\n",
    "    doc = sub(r'<[^<>]+(>|$)', \" \", doc)\n",
    "    doc = sub(r'\\[img_assist[^]]*?\\]', \" \", doc)\n",
    "    doc = sub(r'http[s]?://(?:[a-zA-Z]|[0-9]|[$-_@.&+]|[!*\\(\\),]|(?:%[0-9a-fA-F][0-9a-fA-F]))+', \" url_token \", doc)\n",
    "    return [token for token in simple_preprocess(doc, min_len=0, max_len=float(\"inf\")) if token not in stopwords]"
   ]
  },
  {
   "cell_type": "code",
   "execution_count": 5,
   "metadata": {},
   "outputs": [
    {
     "data": {
      "text/plain": [
       "70531"
      ]
     },
     "execution_count": 5,
     "metadata": {},
     "output_type": "execute_result"
    }
   ],
   "source": [
    "# Load  data\n",
    "# \n",
    "import pymongo\n",
    "client = pymongo.MongoClient()\n",
    "db = client[\"ufo_project\"]\n",
    "sightings=db[\"ufo_sightings\"]\n",
    "\n",
    "titles = [item[\"summary\"] for item in sightings.find()]\n",
    "documents = [item[\"text\"] for item in sightings.find()]\n",
    "ojbectIDs = [item[\"_id\"] for item in sightings.find()]\n",
    "\n",
    "\n",
    "\n",
    "\n",
    "# titles = [item[\"summary\"] for item in sightings.find({\"city\":\"Naperville\"})]\n",
    "# documents = [item[\"text\"] for item in sightings.find({\"city\":\"Naperville\"})]\n",
    "# ojbectIDs = [item[\"_id\"] for item in sightings.find({\"city\":\"Naperville\"})]\n",
    "\n",
    "\n",
    "len(ojbectIDs)"
   ]
  },
  {
   "cell_type": "code",
   "execution_count": 20,
   "metadata": {},
   "outputs": [],
   "source": [
    "# query_string = \"white capsule shaped shaped flying object with no visible propulsion and a smooth surface. It was moving erratically but would also stop suddenly and hover completely still. It was a long white ellipse or oval. It looked like a pill\"\n",
    "# query_string = \"black cube encased by a translucent sphere. shaped like a black box performing gravity defying movement. Dark square shape moving irregularly\"\n",
    "# query_string = \"white capsule shaped. It was moving erratically but would also stop suddenly and hover completely still. It was a long white ellipse. It looked like a white pill.\"\n",
    "# Preprocess the documents, including the query string\n",
    "query_string = \"flying black cube. Shaped like a black box. Dark square shape moving irregularly. black rectangular UFO\"\n",
    "corpus = [preprocess(document) for document in documents]\n",
    "query = preprocess(query_string)"
   ]
  },
  {
   "cell_type": "code",
   "execution_count": 21,
   "metadata": {},
   "outputs": [
    {
     "name": "stdout",
     "output_type": "stream",
     "text": [
      "CPU times: user 14 µs, sys: 1e+03 ns, total: 15 µs\n",
      "Wall time: 18.4 µs\n"
     ]
    }
   ],
   "source": [
    "%%time\n",
    "# jupyter notebook --NotebookApp.iopub_data_rate_limit=1.0e10\n",
    "# Download and/or load the GloVe word vector embeddings\n",
    "\n",
    "if 'glove' not in locals():  # only load if not already in memory\n",
    "    glove = api.load(\"glove-wiki-gigaword-50\")\n",
    "    \n",
    "similarity_index = WordEmbeddingSimilarityIndex(glove)"
   ]
  },
  {
   "cell_type": "code",
   "execution_count": 22,
   "metadata": {},
   "outputs": [
    {
     "name": "stdout",
     "output_type": "stream",
     "text": [
      "CPU times: user 34min 19s, sys: 1min 1s, total: 35min 21s\n",
      "Wall time: 6min 37s\n"
     ]
    }
   ],
   "source": [
    "%%time\n",
    "\n",
    "# Build the term dictionary, TF-idf model\n",
    "# The search query must be in the dictionary as well, in case the terms do not overlap with the documents (we still want similarity)\n",
    "dictionary = Dictionary(corpus+[query])\n",
    "tfidf = TfidfModel(dictionary=dictionary)\n",
    "\n",
    "# Create the term similarity matrix. \n",
    "# The nonzero_limit enforces sparsity by limiting the number of non-zero terms in each column. \n",
    "# For my application, I got best results by removing the default value of 100\n",
    "similarity_matrix = SparseTermSimilarityMatrix(similarity_index, dictionary, tfidf)  # , nonzero_limit=None)"
   ]
  },
  {
   "cell_type": "code",
   "execution_count": 23,
   "metadata": {},
   "outputs": [
    {
     "name": "stderr",
     "output_type": "stream",
     "text": [
      "/Users/dford/anaconda3/lib/python3.8/site-packages/gensim/similarities/termsim.py:358: RuntimeWarning: divide by zero encountered in true_divide\n",
      "  Y = np.multiply(Y, 1 / np.sqrt(Y_norm))\n",
      "/Users/dford/anaconda3/lib/python3.8/site-packages/gensim/similarities/termsim.py:358: RuntimeWarning: invalid value encountered in multiply\n",
      "  Y = np.multiply(Y, 1 / np.sqrt(Y_norm))\n"
     ]
    }
   ],
   "source": [
    "# Compute Soft Cosine Measure between the query and the documents.\n",
    "query_tf = tfidf[dictionary.doc2bow(query)]\n",
    "\n",
    "index = SoftCosineSimilarity(\n",
    "            tfidf[[dictionary.doc2bow(document) for document in corpus]],\n",
    "            similarity_matrix)\n",
    "\n",
    "doc_similarity_scores = index[query_tf]"
   ]
  },
  {
   "cell_type": "code",
   "execution_count": 25,
   "metadata": {},
   "outputs": [
    {
     "name": "stdout",
     "output_type": "stream",
     "text": [
      "51870 \t 0.709 \t I had just stepped outside the house after having a late dinner which was at about 08:45 p.m. and as I looked up to th\n",
      "9350 \t 0.705 \t Huge Dark/Black rectangular object in the sky.\n",
      "14150 \t 0.702 \t Saw a greyish black stretched cube with rounded corners with bright white windows on it\n",
      "5883 \t 0.701 \t two interrelated objects larger rectangle and rotating cube on one end changes shape, speed direction gas filled\n",
      "34207 \t 0.687 \t Rectangular UFO Lehigh Valley\n",
      "26541 \t 0.686 \t Rectangle boxes in form of a train, varrying colors. Red and white hovering dots above and on the sides. Suddenly dissapears in 1hr.\n",
      "66834 \t 0.680 \t Brilliant white light, morphed to clearly defined rectangular black shape, emitted misty tail, all vanished w/ no trace.\n",
      "15929 \t 0.674 \t White/Blue Rectangular object over Orange County CA changed shape, searchlight pointed at object.\n",
      "1665 \t 0.672 \t We saw a rectangular object with a row of smaller tic tac shaped lights, not sure if it was one craft or many.\n",
      "69632 \t 0.664 \t Detailed sighting of a black rectangular craft with circles on the bottom.  Seen traveling then vanished!\n",
      "3598 \t 0.662 \t Large black cube shaped UFO spotted; Columbus,  OH.  Time seemed to stop!\n",
      "22509 \t 0.661 \t Black rectangle object moving from Southeast to Northwest.\n",
      "49907 \t 0.659 \t A black rectangular object was seen in the NE direction from Long Beach, CA.\n",
      "29009 \t 0.659 \t Two black rectangular objects rotating in a consistent straight line heading West.\n",
      "66711 \t 0.658 \t Saw a very large object in sky over rte 95N coming from Peabody.  North of 133. I was looking at it entire time, and it was not moving.\n"
     ]
    }
   ],
   "source": [
    "# Output the similarity scores for top 15 documents\n",
    "sorted_indexes = np.argsort(doc_similarity_scores)[::-1]\n",
    "for idx in sorted_indexes[:15]:\n",
    "    print(f'{idx} \\t {doc_similarity_scores[idx]:0.3f} \\t {titles[idx]}')"
   ]
  },
  {
   "cell_type": "code",
   "execution_count": 26,
   "metadata": {},
   "outputs": [],
   "source": [
    "from bson.objectid import ObjectId"
   ]
  },
  {
   "cell_type": "code",
   "execution_count": 27,
   "metadata": {},
   "outputs": [
    {
     "data": {
      "text/plain": [
       "0.44143572"
      ]
     },
     "execution_count": 27,
     "metadata": {},
     "output_type": "execute_result"
    }
   ],
   "source": [
    "doc_similarity_scores[0]"
   ]
  },
  {
   "cell_type": "code",
   "execution_count": 28,
   "metadata": {},
   "outputs": [
    {
     "data": {
      "text/plain": [
       "ObjectId('6018ee0d44298851bc755a42')"
      ]
     },
     "execution_count": 28,
     "metadata": {},
     "output_type": "execute_result"
    }
   ],
   "source": [
    "ojbectIDs[31094]"
   ]
  },
  {
   "cell_type": "code",
   "execution_count": 29,
   "metadata": {},
   "outputs": [
    {
     "data": {
      "text/plain": [
       "70531"
      ]
     },
     "execution_count": 29,
     "metadata": {},
     "output_type": "execute_result"
    }
   ],
   "source": [
    "len(doc_similarity_scores)"
   ]
  },
  {
   "cell_type": "code",
   "execution_count": 30,
   "metadata": {},
   "outputs": [],
   "source": [
    "# for i in range(len(ojbectIDs)):\n",
    "#     sightings.update_one({\"_id\":ojbectIDs[i]},\n",
    "#                     {'$set': {'tictac_similarity': float(doc_similarity_scores[i])}})"
   ]
  },
  {
   "cell_type": "code",
   "execution_count": 31,
   "metadata": {},
   "outputs": [],
   "source": [
    "for i in range(len(ojbectIDs)):\n",
    "    sightings.update_one({\"_id\":ojbectIDs[i]},\n",
    "                    {'$set': { 'cubeShip_similarity': float(doc_similarity_scores[i])}})"
   ]
  },
  {
   "cell_type": "code",
   "execution_count": null,
   "metadata": {},
   "outputs": [],
   "source": []
  },
  {
   "cell_type": "code",
   "execution_count": null,
   "metadata": {},
   "outputs": [],
   "source": []
  },
  {
   "cell_type": "code",
   "execution_count": null,
   "metadata": {},
   "outputs": [],
   "source": []
  },
  {
   "cell_type": "code",
   "execution_count": null,
   "metadata": {},
   "outputs": [],
   "source": []
  },
  {
   "cell_type": "code",
   "execution_count": null,
   "metadata": {},
   "outputs": [],
   "source": []
  },
  {
   "cell_type": "code",
   "execution_count": null,
   "metadata": {},
   "outputs": [],
   "source": []
  }
 ],
 "metadata": {
  "kernelspec": {
   "display_name": "Python 3",
   "language": "python",
   "name": "python3"
  },
  "language_info": {
   "codemirror_mode": {
    "name": "ipython",
    "version": 3
   },
   "file_extension": ".py",
   "mimetype": "text/x-python",
   "name": "python",
   "nbconvert_exporter": "python",
   "pygments_lexer": "ipython3",
   "version": "3.8.3"
  }
 },
 "nbformat": 4,
 "nbformat_minor": 4
}
